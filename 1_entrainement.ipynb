{
 "cells": [
  {
   "cell_type": "markdown",
   "id": "d5bd6384-0e00-470f-8bb3-06cff5121328",
   "metadata": {},
   "source": [
    "## Entrainement de differents modèles pour calculer les probabilités de retour à l'emploi"
   ]
  },
  {
   "cell_type": "code",
   "execution_count": 1,
   "id": "a8d93bcd-d5eb-43c2-96e1-5b8e09834032",
   "metadata": {},
   "outputs": [],
   "source": [
    "from pyspark.sql import SparkSession"
   ]
  },
  {
   "cell_type": "markdown",
   "id": "83554643-2f6f-4639-93a3-36b8c14dd357",
   "metadata": {},
   "source": [
    "### Rechargement du dataset Personnes"
   ]
  },
  {
   "cell_type": "code",
   "execution_count": 2,
   "id": "4fd9e416-874c-484c-866d-4075b69dc76f",
   "metadata": {
    "tags": []
   },
   "outputs": [
    {
     "name": "stdout",
     "output_type": "stream",
     "text": [
      "\n",
      "\u001b[0;31m7.1.9 and 7.2.17 are the last CDP runtime releases where Spark 2 is supported.\n",
      "Please migrate your Spark 2 applications to Spark 3.\n",
      "\n",
      "Updating Spark 2 applications for Spark 3:\n",
      "https://docs.cloudera.com/runtime/7.2.16/running-spark-applications/topics/spark-update-spark2-spark3.html\n",
      "\u001b[0m\n",
      "CPU times: user 98.4 ms, sys: 66.6 ms, total: 165 ms\n",
      "Wall time: 1min 11s\n"
     ]
    }
   ],
   "source": [
    "%%time\n",
    "MASTER=\"yarn\"           # Spark distant sur CDP  (Spark pushdown)\n",
    "# MASTER=\"local[*]\"     # Spark local sur CML\n",
    "\n",
    "spark = SparkSession.builder.appName(\"1_entrainement.ipynb\").master(MASTER).getOrCreate()"
   ]
  },
  {
   "cell_type": "code",
   "execution_count": 3,
   "id": "0df59642-ea8a-4c2a-9a8b-32e4c8698840",
   "metadata": {
    "tags": []
   },
   "outputs": [
    {
     "name": "stderr",
     "output_type": "stream",
     "text": [
      "Hive Session ID = e48777c5-4c54-4ce2-8ede-c9e9c1ccbb72\n"
     ]
    }
   ],
   "source": [
    "sdf=spark.sql(\"select * from olivier.personnes\")"
   ]
  },
  {
   "cell_type": "markdown",
   "id": "18cf0f19-03de-4763-8222-1c100c0ee3bc",
   "metadata": {},
   "source": [
    "### Initialisation des experimentation MLFLOW pour l'Atelier 1"
   ]
  },
  {
   "cell_type": "code",
   "execution_count": 4,
   "id": "0a07b175-bac3-4629-8e6b-5b69c552f201",
   "metadata": {
    "tags": []
   },
   "outputs": [
    {
     "name": "stderr",
     "output_type": "stream",
     "text": [
      "[Stage 0:>                                                          (0 + 1) / 1]"
     ]
    },
    {
     "name": "stdout",
     "output_type": "stream",
     "text": [
      "+-----+---+-----+----------------+-------------+--------------+--------------------+---------+------------------+----------------+--------------------+--------------+-------------+\n",
      "|   id|age| sexe|niveau_education|duree_chomage|experience_ant|          competence|formation|taux_chomage_local|secteur_activite|reseau_professionnel|support_social|retour_emploi|\n",
      "+-----+---+-----+----------------+-------------+--------------+--------------------+---------+------------------+----------------+--------------------+--------------+-------------+\n",
      "|95167| 42|homme|         LICENSE|            5|             8|    Public librarian|     true| 11.50570330550432|           Group|                  95|             1|            1|\n",
      "|76849| 39|femme|         BTS/DUT|           17|             6| Associate Professor|     true| 2.208842935285328|             LLC|                  70|             7|            0|\n",
      "|36869| 18|femme|          MASTER|           10|            13|              Lawyer|     true| 9.983486086448236|             Ltd|                  53|             1|            1|\n",
      "|26373| 57|homme|         BTS/DUT|            8|             8|   Chemical engineer|     true|16.252816545836446|        and Sons|                  36|             5|            1|\n",
      "|55159| 58|femme|          MASTER|            5|             6|Scientist, resear...|     true|18.171798887180028|             Ltd|                  59|             3|            0|\n",
      "+-----+---+-----+----------------+-------------+--------------+--------------------+---------+------------------+----------------+--------------------+--------------+-------------+\n",
      "only showing top 5 rows\n",
      "\n"
     ]
    },
    {
     "name": "stderr",
     "output_type": "stream",
     "text": [
      "                                                                                \r"
     ]
    }
   ],
   "source": [
    "sdf.show(5)"
   ]
  },
  {
   "cell_type": "code",
   "execution_count": 5,
   "id": "80b2f6d1-25a5-42f1-917f-cc3014ba9406",
   "metadata": {},
   "outputs": [],
   "source": [
    "# mlflow.set_experiment (\"Experimentations Atelier 1\")"
   ]
  },
  {
   "cell_type": "markdown",
   "id": "472cd00f-9037-46df-93bd-e3c56ff440c4",
   "metadata": {},
   "source": [
    "## Lancement d'une Regression logistique de SparkML"
   ]
  },
  {
   "cell_type": "code",
   "execution_count": 6,
   "id": "3f8c7769-2d86-45c0-a547-08c185579aee",
   "metadata": {
    "tags": []
   },
   "outputs": [
    {
     "name": "stdout",
     "output_type": "stream",
     "text": [
      "root\n",
      " |-- id: long (nullable = true)\n",
      " |-- age: long (nullable = true)\n",
      " |-- sexe: string (nullable = true)\n",
      " |-- niveau_education: string (nullable = true)\n",
      " |-- duree_chomage: long (nullable = true)\n",
      " |-- experience_ant: long (nullable = true)\n",
      " |-- competence: string (nullable = true)\n",
      " |-- formation: boolean (nullable = true)\n",
      " |-- taux_chomage_local: double (nullable = true)\n",
      " |-- secteur_activite: string (nullable = true)\n",
      " |-- reseau_professionnel: long (nullable = true)\n",
      " |-- support_social: long (nullable = true)\n",
      " |-- retour_emploi: long (nullable = true)\n",
      "\n"
     ]
    }
   ],
   "source": [
    "sdf.printSchema()"
   ]
  },
  {
   "cell_type": "code",
   "execution_count": 7,
   "id": "5631445f-d98d-4f35-a9a8-293552d1792b",
   "metadata": {
    "tags": []
   },
   "outputs": [
    {
     "name": "stdout",
     "output_type": "stream",
     "text": [
      "root\n",
      " |-- age: long (nullable = true)\n",
      " |-- sexe: string (nullable = true)\n",
      " |-- niveau_education: string (nullable = true)\n",
      " |-- duree_chomage: long (nullable = true)\n",
      " |-- experience_ant: long (nullable = true)\n",
      " |-- competence: string (nullable = true)\n",
      " |-- formation: boolean (nullable = true)\n",
      " |-- taux_chomage_local: double (nullable = true)\n",
      " |-- secteur_activite: string (nullable = true)\n",
      " |-- reseau_professionnel: long (nullable = true)\n",
      " |-- support_social: long (nullable = true)\n",
      " |-- retour_emploi: long (nullable = true)\n",
      "\n"
     ]
    }
   ],
   "source": [
    "sdf=sdf.drop('id')      # Suppression colonne id non requise pour l'étude\n",
    "sdf.printSchema()"
   ]
  },
  {
   "cell_type": "markdown",
   "id": "edba63f1-d64a-4add-907c-20ce7371b105",
   "metadata": {},
   "source": [
    "#### Extraction des variables categorielles"
   ]
  },
  {
   "cell_type": "code",
   "execution_count": 8,
   "id": "3d6fdbb0-435a-4366-bded-22a11ef2f1e3",
   "metadata": {
    "tags": []
   },
   "outputs": [],
   "source": [
    "from pyspark.ml import Pipeline\n",
    "from pyspark.ml.feature import StringIndexer, OneHotEncoder"
   ]
  },
  {
   "cell_type": "code",
   "execution_count": 9,
   "id": "148f6380-742f-4e28-8911-923a2c04303f",
   "metadata": {
    "tags": []
   },
   "outputs": [],
   "source": [
    "variables = sdf.columns[0:-1]   # Toutes les variables sauf la derniere qui est la variable à étudier"
   ]
  },
  {
   "cell_type": "code",
   "execution_count": 10,
   "id": "1039372c-45b1-4275-87ad-f8565541cba9",
   "metadata": {},
   "outputs": [],
   "source": [
    "# Extract les colonnes categories (types string)\n",
    "cat_cols=[]\n",
    "feature_cols=[]\n",
    "for colname, coltype in sdf.dtypes[1:-1]:\n",
    "    if ( coltype == 'string'):\n",
    "        cat_cols += [colname]\n",
    "    else:\n",
    "        feature_cols += [colname]\n"
   ]
  },
  {
   "cell_type": "code",
   "execution_count": 11,
   "id": "4bfa3a67-8487-4e3e-b721-b4951269eb37",
   "metadata": {
    "tags": []
   },
   "outputs": [
    {
     "data": {
      "text/plain": [
       "['sexe', 'niveau_education', 'competence', 'secteur_activite']"
      ]
     },
     "execution_count": 11,
     "metadata": {},
     "output_type": "execute_result"
    }
   ],
   "source": [
    "cat_cols"
   ]
  },
  {
   "cell_type": "code",
   "execution_count": 12,
   "id": "c9a34c6e-f83e-41b5-ba70-4b5ffda71500",
   "metadata": {
    "tags": []
   },
   "outputs": [
    {
     "data": {
      "text/plain": [
       "['duree_chomage',\n",
       " 'experience_ant',\n",
       " 'formation',\n",
       " 'taux_chomage_local',\n",
       " 'reseau_professionnel',\n",
       " 'support_social']"
      ]
     },
     "execution_count": 12,
     "metadata": {},
     "output_type": "execute_result"
    }
   ],
   "source": [
    "feature_cols"
   ]
  },
  {
   "cell_type": "markdown",
   "id": "57dde00f-9ae8-4cf1-b7dc-f1be9d11fc1a",
   "metadata": {},
   "source": [
    "#### Categorise (index) et encode les variables à catégoriser"
   ]
  },
  {
   "cell_type": "code",
   "execution_count": 13,
   "id": "21d156d2-1dd8-4915-8f60-65316a5fb211",
   "metadata": {
    "tags": []
   },
   "outputs": [],
   "source": [
    "stages = [] \n",
    "\n",
    "for colname in cat_cols:\n",
    "\n",
    "   # Assigne un indice aux variable categorielle\n",
    "   indexer = StringIndexer(inputCol=colname, outputCol=colname + \"_index\") \n",
    "        \n",
    "   encoder = OneHotEncoder(inputCol=indexer.getOutputCol(), outputCol=colname + \"_vec\")  \n",
    "\n",
    "   stages       += [indexer, encoder]             # A jout des étapes au pipeline de tranformation"
   ]
  },
  {
   "cell_type": "markdown",
   "id": "9a7bd384-d3c1-4e3d-bd7c-f647fb2d0d71",
   "metadata": {},
   "source": [
    "#### Transforme toutes les variables en vecteur compréhensible pour la régression"
   ]
  },
  {
   "cell_type": "code",
   "execution_count": 14,
   "id": "1bb3f5e0-1fde-4503-9e8c-d3367d145ed3",
   "metadata": {
    "tags": []
   },
   "outputs": [
    {
     "data": {
      "text/plain": [
       "[StringIndexer_35c7fedcfe60,\n",
       " OneHotEncoder_af0db368b021,\n",
       " StringIndexer_673eeb876edd,\n",
       " OneHotEncoder_72f3f7654ee7,\n",
       " StringIndexer_8247688a63fa,\n",
       " OneHotEncoder_3461c25882ea,\n",
       " StringIndexer_9ba5debed4a5,\n",
       " OneHotEncoder_d9be2970f445,\n",
       " VectorAssembler_619da16e9ea1]"
      ]
     },
     "execution_count": 14,
     "metadata": {},
     "output_type": "execute_result"
    }
   ],
   "source": [
    "from pyspark.ml.feature import VectorAssembler\n",
    "\n",
    "assemblerInputs = feature_cols + [c + \"_vec\" for c in cat_cols]              # Réassemblage les variables\n",
    "\n",
    "assembler = VectorAssembler(inputCols=assemblerInputs, outputCol=\"features\") # Vectorise les variables \n",
    "\n",
    "\n",
    "stages += [assembler]      # Ajout du Vector assembleur eu pipeline de transformation\n",
    "\n",
    "stages"
   ]
  },
  {
   "cell_type": "code",
   "execution_count": 15,
   "id": "11780e6b-48dc-4936-86bf-b946b3a921dd",
   "metadata": {
    "tags": []
   },
   "outputs": [
    {
     "name": "stderr",
     "output_type": "stream",
     "text": [
      "                                                                                \r"
     ]
    }
   ],
   "source": [
    "pipeline = Pipeline(stages=stages)           # Initialisation du pipeline de transformation  \n",
    "sdf = pipeline.fit(sdf).transform(sdf)       # Transformation"
   ]
  },
  {
   "cell_type": "code",
   "execution_count": 16,
   "id": "eec41181-9a3b-425b-9d30-dfcbd4fd5f4b",
   "metadata": {
    "tags": []
   },
   "outputs": [
    {
     "name": "stdout",
     "output_type": "stream",
     "text": [
      "root\n",
      " |-- age: long (nullable = true)\n",
      " |-- sexe: string (nullable = true)\n",
      " |-- niveau_education: string (nullable = true)\n",
      " |-- duree_chomage: long (nullable = true)\n",
      " |-- experience_ant: long (nullable = true)\n",
      " |-- competence: string (nullable = true)\n",
      " |-- formation: boolean (nullable = true)\n",
      " |-- taux_chomage_local: double (nullable = true)\n",
      " |-- secteur_activite: string (nullable = true)\n",
      " |-- reseau_professionnel: long (nullable = true)\n",
      " |-- support_social: long (nullable = true)\n",
      " |-- retour_emploi: long (nullable = true)\n",
      " |-- sexe_index: double (nullable = false)\n",
      " |-- sexe_vec: vector (nullable = true)\n",
      " |-- niveau_education_index: double (nullable = false)\n",
      " |-- niveau_education_vec: vector (nullable = true)\n",
      " |-- competence_index: double (nullable = false)\n",
      " |-- competence_vec: vector (nullable = true)\n",
      " |-- secteur_activite_index: double (nullable = false)\n",
      " |-- secteur_activite_vec: vector (nullable = true)\n",
      " |-- features: vector (nullable = true)\n",
      "\n"
     ]
    }
   ],
   "source": [
    "sdf.printSchema()"
   ]
  },
  {
   "cell_type": "markdown",
   "id": "caeff48f-9568-469f-a9a3-e65243fcbb9b",
   "metadata": {
    "tags": []
   },
   "source": [
    "## Entrainement du modèle de régression logistiques SparkML"
   ]
  },
  {
   "cell_type": "markdown",
   "id": "a2946473-ed4b-4f94-97a7-6acd4ba04e1f",
   "metadata": {},
   "source": [
    "#### Echantillonage train/test"
   ]
  },
  {
   "cell_type": "code",
   "execution_count": 17,
   "id": "8a96a594-cae7-4bd4-8fc0-e9f1ed2088a8",
   "metadata": {
    "tags": []
   },
   "outputs": [
    {
     "name": "stderr",
     "output_type": "stream",
     "text": [
      "                                                                                \r"
     ]
    },
    {
     "name": "stdout",
     "output_type": "stream",
     "text": [
      "13686\n"
     ]
    },
    {
     "name": "stderr",
     "output_type": "stream",
     "text": [
      "[Stage 11:=============================>                            (2 + 2) / 4]"
     ]
    },
    {
     "name": "stdout",
     "output_type": "stream",
     "text": [
      "5814\n"
     ]
    },
    {
     "name": "stderr",
     "output_type": "stream",
     "text": [
      "                                                                                \r"
     ]
    }
   ],
   "source": [
    "(train, test) = sdf.randomSplit([0.7, 0.3], seed=42)\n",
    "print(train.count())\n",
    "print(test.count())"
   ]
  },
  {
   "cell_type": "markdown",
   "id": "7f4a6cc4-6b38-44a1-976f-fbde38d65bce",
   "metadata": {
    "tags": []
   },
   "source": [
    "#### Entrainement"
   ]
  },
  {
   "cell_type": "code",
   "execution_count": 18,
   "id": "f343fab1-989b-434a-ac9b-14d75b133d5e",
   "metadata": {},
   "outputs": [
    {
     "name": "stderr",
     "output_type": "stream",
     "text": [
      "                                                                                \r"
     ]
    }
   ],
   "source": [
    "from pyspark.ml.classification import LogisticRegression\n",
    "\n",
    "model = LogisticRegression(labelCol= 'retour_emploi', featuresCol='features', maxIter= 10).fit(train)"
   ]
  },
  {
   "cell_type": "markdown",
   "id": "1b89830f-3a3b-471a-99ff-6eff922f0230",
   "metadata": {},
   "source": [
    "#### Predictions"
   ]
  },
  {
   "cell_type": "code",
   "execution_count": 19,
   "id": "c6a12fcd-00dd-47fd-a2de-f0686bc13b76",
   "metadata": {
    "tags": []
   },
   "outputs": [],
   "source": [
    "predictions = model.transform(test)"
   ]
  },
  {
   "cell_type": "code",
   "execution_count": 20,
   "id": "e465f415-128b-44d8-9dd4-a705b63c42c9",
   "metadata": {
    "tags": []
   },
   "outputs": [
    {
     "name": "stdout",
     "output_type": "stream",
     "text": [
      "+-------------+----------+--------------------+\n",
      "|retour_emploi|prediction|         probability|\n",
      "+-------------+----------+--------------------+\n",
      "|            1|       0.0|[0.51789573209195...|\n",
      "|            1|       0.0|[0.58739918253130...|\n",
      "|            1|       0.0|[0.69725823233148...|\n",
      "|            0|       0.0|[0.60449178609026...|\n",
      "|            0|       1.0|[0.43923599971406...|\n",
      "+-------------+----------+--------------------+\n",
      "only showing top 5 rows\n",
      "\n"
     ]
    }
   ],
   "source": [
    "predictions.select(\"retour_emploi\", \"prediction\", \"probability\").show(5)"
   ]
  },
  {
   "cell_type": "code",
   "execution_count": 21,
   "id": "689f72c1-ad9d-40ea-a904-d18d0ef0a02b",
   "metadata": {
    "tags": []
   },
   "outputs": [
    {
     "name": "stdout",
     "output_type": "stream",
     "text": [
      "root\n",
      " |-- age: long (nullable = true)\n",
      " |-- sexe: string (nullable = true)\n",
      " |-- niveau_education: string (nullable = true)\n",
      " |-- duree_chomage: long (nullable = true)\n",
      " |-- experience_ant: long (nullable = true)\n",
      " |-- competence: string (nullable = true)\n",
      " |-- formation: boolean (nullable = true)\n",
      " |-- taux_chomage_local: double (nullable = true)\n",
      " |-- secteur_activite: string (nullable = true)\n",
      " |-- reseau_professionnel: long (nullable = true)\n",
      " |-- support_social: long (nullable = true)\n",
      " |-- retour_emploi: long (nullable = true)\n",
      " |-- sexe_index: double (nullable = false)\n",
      " |-- sexe_vec: vector (nullable = true)\n",
      " |-- niveau_education_index: double (nullable = false)\n",
      " |-- niveau_education_vec: vector (nullable = true)\n",
      " |-- competence_index: double (nullable = false)\n",
      " |-- competence_vec: vector (nullable = true)\n",
      " |-- secteur_activite_index: double (nullable = false)\n",
      " |-- secteur_activite_vec: vector (nullable = true)\n",
      " |-- features: vector (nullable = true)\n",
      " |-- rawPrediction: vector (nullable = true)\n",
      " |-- probability: vector (nullable = true)\n",
      " |-- prediction: double (nullable = false)\n",
      "\n"
     ]
    }
   ],
   "source": [
    "predictions.printSchema()"
   ]
  },
  {
   "cell_type": "markdown",
   "id": "1c56905f-a3de-450a-af21-8d6a8ec6315a",
   "metadata": {
    "tags": []
   },
   "source": [
    "#### Evaluation du modèle"
   ]
  },
  {
   "cell_type": "code",
   "execution_count": 22,
   "id": "ac8840ec-51e7-42ba-9d21-21372be98604",
   "metadata": {
    "tags": []
   },
   "outputs": [
    {
     "name": "stderr",
     "output_type": "stream",
     "text": [
      "                                                                                \r"
     ]
    },
    {
     "data": {
      "text/plain": [
       "0.5022290520993371"
      ]
     },
     "execution_count": 22,
     "metadata": {},
     "output_type": "execute_result"
    }
   ],
   "source": [
    "from pyspark.ml.evaluation import BinaryClassificationEvaluator\n",
    "\n",
    "evaluator = BinaryClassificationEvaluator(labelCol='retour_emploi')\n",
    "evaluator.evaluate(predictions)"
   ]
  },
  {
   "cell_type": "code",
   "execution_count": 23,
   "id": "c8c077d5-23cc-414d-8823-78da8acb9a3a",
   "metadata": {
    "tags": []
   },
   "outputs": [
    {
     "name": "stderr",
     "output_type": "stream",
     "text": [
      "                                                                                \r"
     ]
    }
   ],
   "source": [
    "# Confusion Matrix\n",
    "matrix = predictions.crosstab('retour_emploi', 'prediction')"
   ]
  },
  {
   "cell_type": "code",
   "execution_count": 24,
   "id": "58f1bd9a-f969-486f-a64e-afd4425546e9",
   "metadata": {
    "tags": []
   },
   "outputs": [],
   "source": [
    "import pandas as pd\n",
    "\n",
    "df = matrix.toPandas()\n"
   ]
  },
  {
   "cell_type": "code",
   "execution_count": 25,
   "id": "11b34e13-c42d-47ff-aedd-40484c11962c",
   "metadata": {
    "tags": []
   },
   "outputs": [
    {
     "data": {
      "text/html": [
       "<div>\n",
       "<style scoped>\n",
       "    .dataframe tbody tr th:only-of-type {\n",
       "        vertical-align: middle;\n",
       "    }\n",
       "\n",
       "    .dataframe tbody tr th {\n",
       "        vertical-align: top;\n",
       "    }\n",
       "\n",
       "    .dataframe thead th {\n",
       "        text-align: right;\n",
       "    }\n",
       "</style>\n",
       "<table border=\"1\" class=\"dataframe\">\n",
       "  <thead>\n",
       "    <tr style=\"text-align: right;\">\n",
       "      <th></th>\n",
       "      <th>retour_emploi_prediction</th>\n",
       "      <th>0.0</th>\n",
       "      <th>1.0</th>\n",
       "    </tr>\n",
       "  </thead>\n",
       "  <tbody>\n",
       "    <tr>\n",
       "      <th>0</th>\n",
       "      <td>1</td>\n",
       "      <td>1455</td>\n",
       "      <td>1466</td>\n",
       "    </tr>\n",
       "    <tr>\n",
       "      <th>1</th>\n",
       "      <td>0</td>\n",
       "      <td>1470</td>\n",
       "      <td>1423</td>\n",
       "    </tr>\n",
       "  </tbody>\n",
       "</table>\n",
       "</div>"
      ],
      "text/plain": [
       "  retour_emploi_prediction   0.0   1.0\n",
       "0                        1  1455  1466\n",
       "1                        0  1470  1423"
      ]
     },
     "execution_count": 25,
     "metadata": {},
     "output_type": "execute_result"
    }
   ],
   "source": [
    "df"
   ]
  },
  {
   "cell_type": "code",
   "execution_count": 26,
   "id": "854c88d3-5084-47a8-9718-890fecf8d0db",
   "metadata": {
    "tags": []
   },
   "outputs": [
    {
     "name": "stdout",
     "output_type": "stream",
     "text": [
      "Precision   : 0.507442021460713\n",
      "Recall      : 0.5018829168093119\n",
      "Specificity : 0.5081230556515728\n"
     ]
    }
   ],
   "source": [
    "print(f'Precision   : {df.iloc[0,2] / (df.iloc[0,2] + df.iloc[1,2])}')\n",
    "print(f'Recall      : {df.iloc[0,2] / (df.iloc[0,2] + df.iloc[0,1])}')\n",
    "print(f'Specificity : {df.iloc[1,1] / (df.iloc[1,1] + df.iloc[1,2])}')"
   ]
  },
  {
   "cell_type": "markdown",
   "id": "afd152b9-8123-4911-9fd4-613de95a1cfc",
   "metadata": {
    "tags": []
   },
   "source": [
    "#### Tuning du modèle et logging avec MLFlow"
   ]
  },
  {
   "cell_type": "code",
   "execution_count": 27,
   "id": "c839bb6a-94c3-4cde-b974-bdfd3284e3e6",
   "metadata": {
    "tags": []
   },
   "outputs": [],
   "source": [
    "import mlflow\n",
    "\n",
    "from pyspark.ml.tuning import ParamGridBuilder, TrainValidationSplit"
   ]
  },
  {
   "cell_type": "code",
   "execution_count": 28,
   "id": "d3bc937d-c966-4d36-9d75-cbcd03f42f92",
   "metadata": {},
   "outputs": [
    {
     "name": "stderr",
     "output_type": "stream",
     "text": [
      "                                                                                \r"
     ]
    }
   ],
   "source": [
    "MAXITER=10                                 # Initialisation des paramètres de tuning\n",
    "\n",
    "param_grid = {\n",
    "    'regParam': [0.1, 0.3, 0.5],\n",
    "    'elasticNetParam': [0.1, 0.5, 0.9]\n",
    "}\n",
    "\n",
    "\n",
    "lr = LogisticRegression(labelCol= 'retour_emploi', featuresCol='features', maxIter=MAXITER)\n",
    "\n",
    "grid = ParamGridBuilder().addGrid(lr.regParam, param_grid['regParam'])\\\n",
    "                         .addGrid(lr.elasticNetParam, param_grid['elasticNetParam'])\\\n",
    "                         .build()\n",
    "\n",
    "evaluator = BinaryClassificationEvaluator(labelCol='retour_emploi')\n",
    "\n",
    "tvs = TrainValidationSplit(estimator=lr, estimatorParamMaps=grid, evaluator=evaluator)\n",
    "\n",
    "model = tvs.fit(train)"
   ]
  },
  {
   "cell_type": "code",
   "execution_count": 31,
   "id": "6ed06a3e-b9c1-4071-8f26-a96bbab0d2d4",
   "metadata": {
    "tags": []
   },
   "outputs": [
    {
     "name": "stderr",
     "output_type": "stream",
     "text": [
      "                                                                                \r"
     ]
    }
   ],
   "source": [
    "best_params = model.bestModel.extractParamMap()\n",
    "\n",
    "predictions = model.bestModel.transform(test)\n",
    "\n",
    "auc         = evaluator.evaluate(predictions, {evaluator.metricName: \"areaUnderROC\"})\n",
    "\n",
    "matrix      = predictions.crosstab('retour_emploi', 'prediction')\n",
    "df          = matrix.toPandas()\n",
    "\n",
    "precision   = df.iloc[0,2] / (df.iloc[0,2] + df.iloc[1,2])\n",
    "recall      = df.iloc[0,2] / (df.iloc[0,2] + df.iloc[0,1])\n",
    "specificity = df.iloc[1,1] / (df.iloc[1,1] + df.iloc[1,2])\n"
   ]
  },
  {
   "cell_type": "code",
   "execution_count": 34,
   "id": "c460de6e-ecfd-42d9-9e8d-b69fc9261f2a",
   "metadata": {},
   "outputs": [],
   "source": [
    "mlflow.set_experiment(\"Atelier ML\")\n",
    "\n",
    "\n",
    "with mlflow.start_run():\n",
    "    for param_name, param_value in best_params.items():\n",
    "        mlflow.log_param(param_name.name, param_value)\n",
    "        \n",
    "    mlflow.log_metric( \"auc\"        , auc         )\n",
    "    mlflow.log_metric( \"precision\"  , precision   )\n",
    "    mlflow.log_metric( \"recall\"     , recall      )\n",
    "    mlflow.log_metric( \"specificity\", specificity )\n",
    "    \n"
   ]
  },
  {
   "cell_type": "code",
   "execution_count": 35,
   "id": "96724cd9-9069-473e-942a-4b7f8c85ffdb",
   "metadata": {},
   "outputs": [],
   "source": [
    "spark.stop()"
   ]
  },
  {
   "cell_type": "code",
   "execution_count": null,
   "id": "1753861d-a33f-4a05-8f8e-cd4a7f78750d",
   "metadata": {},
   "outputs": [],
   "source": []
  }
 ],
 "metadata": {
  "kernelspec": {
   "display_name": "Python 3 (ipykernel)",
   "language": "python",
   "name": "python3"
  },
  "language_info": {
   "codemirror_mode": {
    "name": "ipython",
    "version": 3
   },
   "file_extension": ".py",
   "mimetype": "text/x-python",
   "name": "python",
   "nbconvert_exporter": "python",
   "pygments_lexer": "ipython3",
   "version": "3.7.16"
  }
 },
 "nbformat": 4,
 "nbformat_minor": 5
}
